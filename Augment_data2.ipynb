{
 "cells": [
  {
   "cell_type": "markdown",
   "metadata": {},
   "source": [
    "### we created the dataset of 5 secs audio clips and labelled them on the basis of their liveliness\n",
    "### but the data was less to train a deep learning model\n",
    "### so we need to perform data augmentation to increase the dataset"
   ]
  },
  {
   "cell_type": "code",
   "execution_count": 1,
   "metadata": {},
   "outputs": [],
   "source": [
    "import librosa\n",
    "import matplotlib.pyplot as plt\n",
    "import numpy as np\n",
    "from os import listdir\n",
    "from os.path import isfile, join"
   ]
  },
  {
   "cell_type": "markdown",
   "metadata": {},
   "source": [
    "### first we defined a function to flip the audio clip\n",
    "### as flipping the audio will not affect the liveliness of speaker"
   ]
  },
  {
   "cell_type": "code",
   "execution_count": 2,
   "metadata": {},
   "outputs": [],
   "source": [
    "def flip(wav):\n",
    "    return np.flip(wav)"
   ]
  },
  {
   "cell_type": "markdown",
   "metadata": {},
   "source": [
    "### then we defined a function to shift the audio clips in rotated manner 4 times"
   ]
  },
  {
   "cell_type": "code",
   "execution_count": 3,
   "metadata": {},
   "outputs": [],
   "source": [
    "def time_shift_rotate(wav):\n",
    "    one_fifth = len(wav) // 5\n",
    "    roll1 = np.random.randint(one_fifth)\n",
    "    roll2 = np.random.randint(one_fifth,2 * one_fifth)\n",
    "    roll3 = np.random.randint(2 * one_fifth,3 * one_fifth)\n",
    "    roll4 = np.random.randint(3 * one_fifth,4 * one_fifth)\n",
    "    return (np.roll(wav,roll1),np.roll(wav,roll2),np.roll(wav,roll3),np.roll(wav,roll4))"
   ]
  },
  {
   "cell_type": "code",
   "execution_count": null,
   "metadata": {},
   "outputs": [],
   "source": [
    "def add_noise(wav):\n",
    "    noise = np.random.randn(len(wav))\n",
    "    new_wav = wav + .005 * noise\n",
    "    return new_wav"
   ]
  },
  {
   "cell_type": "code",
   "execution_count": null,
   "metadata": {},
   "outputs": [],
   "source": [
    "def speed_tune(wav,rate):\n",
    "    new_wav = librosa.effects.time_stretch(wav, rate)\n",
    "    diff = abs(len(new_wav) - len(wav))\n",
    "    if len(new_wav) > len(wav):\n",
    "        st_slice = np.random.randint(diff)\n",
    "        end_slice = len(new_wav) - (diff - st_slice)\n",
    "        new_wav = new_wav[st_slice:end_slice]\n",
    "    else:\n",
    "        st_pad = np.random.randint(diff)\n",
    "        end_pad = diff - st_pad\n",
    "        new_wav = np.pad(new_wav, (st_pad,end_pad), \"constant\")\n",
    "    return new_wav\n",
    "\n",
    "##pad start,pad end,slice start,slice end ,random."
   ]
  },
  {
   "cell_type": "markdown",
   "metadata": {},
   "source": [
    "### here we defined a functin to perform data augmentation and save them to a new directory"
   ]
  },
  {
   "cell_type": "code",
   "execution_count": 4,
   "metadata": {},
   "outputs": [],
   "source": [
    "def augment_default(filename,label):\n",
    "    y,sr = librosa.load('H:/audio_data/' + filename)\n",
    "    y_flip = flip(y)\n",
    "    y_shift = time_shift_rotate(y)\n",
    "    y_noise = add_noise(y)\n",
    "    y_slow = speed_tune(y,.8)\n",
    "    y_fast = speed_tune(y,1.2)\n",
    "    write_to_disk(y_flip,filename,'flip',label)\n",
    "    write_to_disk(y_shift[0],filename,'shift0',label)\n",
    "    write_to_disk(y_shift[1],filename,'shift1',label)\n",
    "    write_to_disk(y_shift[2],filename,'shift2',label)\n",
    "    write_to_disk(y_shift[3],filename,'shift3',label)\n",
    "    write_to_disk(y_slow,filename,'slow',label)\n",
    "    write_to_disk(y_fast,filename,'fast',label)\n",
    "    write_to_disk(y_noise,filename,'noise',label)"
   ]
  },
  {
   "cell_type": "code",
   "execution_count": 5,
   "metadata": {},
   "outputs": [],
   "source": [
    "def write_to_disk(wav,fname,type_aug,label):\n",
    "    sr = 22050\n",
    "    new_fname = \"H:/augmented_audio2/\" + label + '/' +type_aug + '-' + fname\n",
    "    librosa.output.write_wav(new_fname,wav,sr)"
   ]
  },
  {
   "cell_type": "markdown",
   "metadata": {},
   "source": [
    "### now we performed actual data augmentation of audio clips of each category (good/bad/average) separately"
   ]
  },
  {
   "cell_type": "code",
   "execution_count": 15,
   "metadata": {},
   "outputs": [],
   "source": [
    "for file in good_files:\n",
    "    augment_default(file,'good')"
   ]
  },
  {
   "cell_type": "code",
   "execution_count": 16,
   "metadata": {},
   "outputs": [],
   "source": [
    "for file in bad_files:\n",
    "    augment_default(file,'bad')"
   ]
  },
  {
   "cell_type": "code",
   "execution_count": 17,
   "metadata": {},
   "outputs": [],
   "source": [
    "for file in average_files:\n",
    "    augment_default(file,'average')"
   ]
  },
  {
   "cell_type": "markdown",
   "metadata": {},
   "source": []
  },
  {
   "cell_type": "code",
   "execution_count": 7,
   "metadata": {},
   "outputs": [],
   "source": [
    "mypath = \"H:/3class_data/good\"\n",
    "good_files = [f for f in listdir(mypath) if isfile(join(mypath, f))]"
   ]
  },
  {
   "cell_type": "code",
   "execution_count": 8,
   "metadata": {},
   "outputs": [
    {
     "data": {
      "text/plain": [
       "['rahul-brian-clip1_3,3,3.wav',\n",
       " 'rahul-brian-clip3_3,3,2.5.wav',\n",
       " 'rahul-brian-clip5_3,3,3.wav',\n",
       " 'rahul-clip108_3,3,2.5.wav',\n",
       " 'rahul-clip114_3,2.5,3.wav',\n",
       " 'rahul-clip176_3,2.5,3.wav',\n",
       " 'rahul-clip196_3,3,2.5.wav',\n",
       " 'rahul-clip197_3,3,3.wav',\n",
       " 'rahul-clip198_3,3,3.wav',\n",
       " 'rahul-clip199_3,3,3.wav',\n",
       " 'rahul-clip201_3,3,3.wav',\n",
       " 'rahul-clip202_3,3,3.wav',\n",
       " 'rahul-clip203_3,3,3.wav',\n",
       " 'rahul-clip204_3,3,3.wav',\n",
       " 'rahul-clip205_3,3,3.wav',\n",
       " 'rahul-clip206_3,3,3.wav',\n",
       " 'rahul-clip220_3,2.5,3.wav',\n",
       " 'rahul-clip227_3,2.5,3.wav',\n",
       " 'rahul-clip250_3,3,2.5.wav',\n",
       " 'rahul-clip251_3,3,2.5.wav',\n",
       " 'rahul-clip252_3,3,2.5.wav',\n",
       " 'rahul-clip254_3,2.5,3.wav',\n",
       " 'rahul-clip27_3,3,3.wav',\n",
       " 'rahul-clip281_3,3,2.5.wav',\n",
       " 'rahul-clip291_3,3,2.5.wav',\n",
       " 'rahul-clip302_3,3,2.5.wav',\n",
       " 'rahul-clip329_3,3,3.wav',\n",
       " 'rahul-clip330_3,3,3.wav',\n",
       " 'rahul-clip331_3,3,2.5.wav',\n",
       " 'rahul-clip332_3,3,2.5.wav',\n",
       " 'rahul-clip333_3,3,2.5.wav',\n",
       " 'rahul-clip334_3,3,3.wav',\n",
       " 'rahul-clip335_3,3,3.wav',\n",
       " 'rahul-clip342_3,3,2.5.wav',\n",
       " 'rahul-clip353_2.5,3,3.wav',\n",
       " 'rahul-clip355_3,3,3.wav',\n",
       " 'rahul-clip361_3,2.5,3.wav',\n",
       " 'rahul-clip395_3,3,2.5.wav',\n",
       " 'rahul-clip397_2.5,3,3.wav',\n",
       " 'rahul-clip398_3,3,3.wav',\n",
       " 'rahul-clip401_3,2.5,3.wav',\n",
       " 'rahul-clip416_2.5,3,3.wav',\n",
       " 'rahul-clip448_3,3,2.5.wav',\n",
       " 'rahul-clip456_3,3,2.5.wav',\n",
       " 'rahul-clip458_3,3,2.5.wav',\n",
       " 'rahul-clip45_3,3,3.wav',\n",
       " 'rahul-clip46_3,3,2.5.wav',\n",
       " 'rahul-clip470_3,3,2.5.wav',\n",
       " 'rahul-clip47_3,3,2.5.wav',\n",
       " 'rahul-clip495_3,3,2.5.wav',\n",
       " 'rahul-clip498_3,2.5,3.wav',\n",
       " 'rahul-clip511_3,2.5,3.wav',\n",
       " 'rahul-clip553_2.5,3,3.wav',\n",
       " 'rahul-clip556_3,3,2.5.wav',\n",
       " 'rahul-clip560_3,3,2.5.wav',\n",
       " 'rahul-clip572_3,3,3.wav',\n",
       " 'rahul-clip591_3,3,3.wav',\n",
       " 'rahul-clip593_3,3,3.wav',\n",
       " 'rahul-clip595_3,2.5,3.wav',\n",
       " 'rahul-clip596_3,3,2.5.wav',\n",
       " 'rahul-clip597_3,3,3.wav',\n",
       " 'rahul-clip598_3,2.5,3.wav',\n",
       " 'rahul-clip599_3,3,3.wav',\n",
       " 'rahul-clip5_3,3,3.wav',\n",
       " 'rahul-clip600_3,3,3.wav',\n",
       " 'rahul-clip601_3,3,3.wav',\n",
       " 'rahul-clip603_3,3,3.wav',\n",
       " 'rahul-clip66_3,2.5,3.wav',\n",
       " 'rahul-clip67_3,3,2.5.wav',\n",
       " 'rahul-clip68_3,3,3.wav',\n",
       " 'rahul-clip72_3,3,3.wav',\n",
       " 'rahul-clip7_3,3,3.wav',\n",
       " 'rahul-clip84_3,3,3.wav',\n",
       " 'rahul-clip85_3,3,3.wav',\n",
       " 'rahul-clip88_3,3,2.5.wav',\n",
       " 'rahul-gang-clip1_3,3,2.5.wav',\n",
       " 'rahul-gang-clip2_3,3,3.wav',\n",
       " 'rahul-gang-clip4_3,3,2.5.wav',\n",
       " 'rahul-gang-clip5_3,3,3.wav',\n",
       " 'rahul-habits-clip4_3,2.5,3.wav',\n",
       " 'rahul-habits-clip5_3,3,3.wav',\n",
       " 'rahul-habits-clip6_3,3,3.wav',\n",
       " 'rahul-humor-clip3_3,3,3.wav',\n",
       " 'rahul-questions-clip1_3,3,3.wav',\n",
       " 'rahul-questions-clip3_3,3,2.8.wav',\n",
       " 'rahul-questions-clip7_2.5,3,3.wav',\n",
       " 'ravina-set1-clip28_3,2.5,3.wav',\n",
       " 'ravina-set1-clip42_3,2.5,3.wav',\n",
       " 'ravina-set1-clip47_3,3,2.5.wav',\n",
       " 'ravina-set2-clip30_3,3,3.wav',\n",
       " 'ravina-set2-clip41_2.5,3,3.wav',\n",
       " 'ravina-set3-clip10_2.5,3,3.wav',\n",
       " 'ravina-set3-clip25_3,3,2.5.wav',\n",
       " 'ravina-set3-clip28_3,3,3.wav',\n",
       " 'ravina-set3-clip29_3,3,3.wav',\n",
       " 'ravina-set3-clip31_2.5,3,3.wav',\n",
       " 'ravina-set3-clip33_3,3,3.wav',\n",
       " 'ravina-set3-clip36_3,3,3.wav',\n",
       " 'ravina-set3-clip37_3,3,2.5.wav',\n",
       " 'ravina-set3-clip46_3,3,2.5.wav',\n",
       " 'ravina-set3-clip47_3,3,2.5.wav',\n",
       " 'ravina-set4-clip26_2.5,3,3.wav',\n",
       " 'ravina-set4-clip28_3,2.5,3.wav',\n",
       " 'ravina-set4-clip29_2.5,3,3.wav',\n",
       " 'ravina-set4-clip33_2.5,3,3.wav',\n",
       " 'ravina-set4-clip61_3,2.5,3.wav',\n",
       " 'ravina-set4-clip62_2.5,3,3.wav',\n",
       " 'ravina-set4-clip63_3,3,3.wav',\n",
       " 'ravina-set4-clip66_2.5,3,3.wav',\n",
       " 'ravina-set4-clip67_3,3,3.wav',\n",
       " 'ravina-set4-clip70_3,3,3.wav',\n",
       " 'ravina-set4-clip72_3,3,2.5.wav',\n",
       " 'ravina-set4-clip86_2.5,3,3.wav',\n",
       " 'saijal-set1-clip22_3,2.5,3.wav',\n",
       " 'saijal-set1-clip23_3,3,2.5.wav',\n",
       " 'saijal-set1-clip24_3,3,2.5.wav',\n",
       " 'saijal-set1-clip26_3,3,2.5.wav',\n",
       " 'saijal-set1-clip27_3,3,3.wav',\n",
       " 'saijal-set1-clip30_3,2.5,3.wav',\n",
       " 'saijal-set1-clip31_3,2.5,3.wav',\n",
       " 'saijal-set1-clip33_3,2.5,3.wav',\n",
       " 'saijal-set1-clip36_3,3,3.wav',\n",
       " 'saijal-set1-clip40_3,2.5,3.wav',\n",
       " 'saijal-set1-clip51_3,2.5,3.wav',\n",
       " 'saijal-set1-clip7_2.5,3,3.wav',\n",
       " 'saijal-set1-clip8_2.5,3,3.wav',\n",
       " 'saijal-set2-clip10_2.5,3,3.wav',\n",
       " 'saijal-set2-clip40_3,3,3.wav',\n",
       " 'saijal-set2-clip44_2.5,3,3.wav',\n",
       " 'saijal-set3-clip10_3,3,3.wav',\n",
       " 'saijal-set3-clip13_3,3,3.wav',\n",
       " 'saijal-set3-clip14_3,3,2.5.wav',\n",
       " 'saijal-set3-clip15_3,3,2.5.wav',\n",
       " 'saijal-set3-clip17_3,3,2.5.wav',\n",
       " 'saijal-set3-clip18_3,3,3.wav',\n",
       " 'saijal-set3-clip2_2.5,3,3.wav',\n",
       " 'saijal-set3-clip34_3,3,2.5.wav',\n",
       " 'saijal-set3-clip4_3,3,2.5.wav',\n",
       " 'saijal-set3-clip50_2.5,3,3.wav',\n",
       " 'saijal-set3-clip5_3,2.5,3.wav',\n",
       " 'saijal-set3-clip6_3,3,3.wav',\n",
       " 'saijal-set3-clip7_3,2.5,3.wav',\n",
       " 'saijal-set3-clip9_3,3,3.wav',\n",
       " 'saijal-set4-clip23_3,3,3.wav',\n",
       " 'saijal-set4-clip24_3,3,3.wav',\n",
       " 'saijal-set4-clip25_3,3,3.wav',\n",
       " 'saijal-set4-clip26_3,3,3.wav',\n",
       " 'saijal-set4-clip30_3,3,3.wav',\n",
       " 'saijal-set4-clip31_3,3,2.5.wav',\n",
       " 'saijal-set5-clip24_3,3,2.5.wav',\n",
       " 'saijal-set5-clip37_3,3,2.5.wav',\n",
       " 'saijal-set5-clip7_3,3,2.5.wav',\n",
       " 'saijal-set6-clip33_3,3,2.5.wav',\n",
       " 'saijal-set6-clip34_2.5,3,3.wav',\n",
       " 'saijal-set6-clip35_3,3,3.wav',\n",
       " 'saijal-set6-clip38_3,3,3.wav',\n",
       " 'saijal-set6-clip39_3,3,3.wav']"
      ]
     },
     "execution_count": 8,
     "metadata": {},
     "output_type": "execute_result"
    }
   ],
   "source": [
    "good_files"
   ]
  },
  {
   "cell_type": "code",
   "execution_count": 9,
   "metadata": {},
   "outputs": [],
   "source": [
    "mypath = \"H:/3class_data/bad\"\n",
    "bad_files = [f for f in listdir(mypath) if isfile(join(mypath, f))]"
   ]
  },
  {
   "cell_type": "code",
   "execution_count": 10,
   "metadata": {},
   "outputs": [
    {
     "data": {
      "text/plain": [
       "['rahul-clip101_1,1,1.5.wav',\n",
       " 'rahul-clip103_1.5,1,1.wav',\n",
       " 'rahul-clip120_1,1,1.wav',\n",
       " 'rahul-clip12_1,1,1.5.wav',\n",
       " 'rahul-clip142_1,1,1.wav',\n",
       " 'rahul-clip149_1.5,1,1.wav',\n",
       " 'rahul-clip151_1,1,1.5.wav',\n",
       " 'rahul-clip158_1,1,1.wav',\n",
       " 'rahul-clip159_1,1,1.wav',\n",
       " 'rahul-clip161_1,1,1.5.wav',\n",
       " 'rahul-clip168_1,1,1.5.wav',\n",
       " 'rahul-clip186_1,1,1.wav',\n",
       " 'rahul-clip192_1,1,1.wav',\n",
       " 'rahul-clip194_1,1,1.wav',\n",
       " 'rahul-clip231_1,1.5,1.wav',\n",
       " 'rahul-clip236_1.5,1,1.wav',\n",
       " 'rahul-clip237_1,1,1.5.wav',\n",
       " 'rahul-clip238_1,1,1.5.wav',\n",
       " 'rahul-clip246_1,1,1.5.wav',\n",
       " 'rahul-clip247_1.5,1,1.wav',\n",
       " 'rahul-clip261_1,1,1.wav',\n",
       " 'rahul-clip269_1.5,1,1.wav',\n",
       " 'rahul-clip294_1.5,1,1.wav',\n",
       " 'rahul-clip308_1,1,1.5.wav',\n",
       " 'rahul-clip318_1,1,1.wav',\n",
       " 'rahul-clip320_1,1,1.5.wav',\n",
       " 'rahul-clip323_1,1,1.5.wav',\n",
       " 'rahul-clip340_1.5,1,1.wav',\n",
       " 'rahul-clip34_1,1,1.wav',\n",
       " 'rahul-clip35_1.5,1,1.wav',\n",
       " 'rahul-clip370_1.5,1,1.wav',\n",
       " 'rahul-clip380_1.5,1,1.wav',\n",
       " 'rahul-clip384_1.5,1,1.wav',\n",
       " 'rahul-clip385_1.5,1,1.wav',\n",
       " 'rahul-clip388_1.5,1,1.wav',\n",
       " 'rahul-clip389_1.5,1,1.wav',\n",
       " 'rahul-clip391_1.5,1,1.wav',\n",
       " 'rahul-clip422_1,1,1.5.wav',\n",
       " 'rahul-clip464_1.5,1,1.wav',\n",
       " 'rahul-clip480_1,1,1.wav',\n",
       " 'rahul-clip48_1,1,1.wav',\n",
       " 'rahul-clip505_1,1,1.wav',\n",
       " 'rahul-clip51_1.5,1,1.wav',\n",
       " 'rahul-clip52_1.5,1,1.wav',\n",
       " 'rahul-clip53_1,1.5,1.wav',\n",
       " 'rahul-clip569_1,1,1.5.wav',\n",
       " 'rahul-clip56_1,1,1.5.wav',\n",
       " 'rahul-clip57_1.5,1.5,1.wav',\n",
       " 'rahul-clip583_1.5,1,1.wav',\n",
       " 'rahul-clip586_1,1,1.5.wav',\n",
       " 'rahul-clip602_1.5,1,1.wav',\n",
       " 'rahul-clip605_1.5,1,1.wav',\n",
       " 'rahul-clip64_1.5,1,1.wav',\n",
       " 'rahul-clip65_1.5,1,1.wav',\n",
       " 'rahul-clip93_1,1,1.5.wav',\n",
       " 'rahul-clip94_1,1,1.wav',\n",
       " 'rahul-sucide-clip1_1,1,1.5.wav',\n",
       " 'rahul-sucide-clip3_1,1,1.wav',\n",
       " 'rahul-sucide1-clip3_1,1,1.5.wav',\n",
       " 'ravina-set2-clip11_1.5,1,1.wav',\n",
       " 'ravina-set2-clip13_1,1,1.wav',\n",
       " 'ravina-set2-clip14_1.5,1,1.wav',\n",
       " 'ravina-set3-clip1_1,1,1.wav',\n",
       " 'ravina-set3-clip2_1,1,1.wav',\n",
       " 'ravina-set3-clip4_1.5,1,1.wav',\n",
       " 'saijal-set1-clip44_1,1,1.wav',\n",
       " 'saijal-set1-clip45_1.5,1,1.wav',\n",
       " 'saijal-set1-clip55_1.5,1,1.wav',\n",
       " 'saijal-set1-clip56_1,1,1.wav',\n",
       " 'saijal-set1-clip60_1,1.5,1.wav',\n",
       " 'saijal-set1-clip63_1,1,1.5.wav',\n",
       " 'saijal-set1-clip64_1,1,1.5.wav',\n",
       " 'saijal-set1-clip91_1.5,1,1.wav',\n",
       " 'saijal-set1-clip93_1,1,1.5.wav',\n",
       " 'saijal-set1-clip96_1.5,1,1.wav',\n",
       " 'saijal-set2-clip2_1,1,1.5.wav',\n",
       " 'saijal-set3-clip22_1,1,1.wav',\n",
       " 'saijal-set3-clip23_1,1,1.5.wav',\n",
       " 'saijal-set5-clip18_1.5,1,1.wav']"
      ]
     },
     "execution_count": 10,
     "metadata": {},
     "output_type": "execute_result"
    }
   ],
   "source": [
    "bad_files"
   ]
  },
  {
   "cell_type": "code",
   "execution_count": 11,
   "metadata": {},
   "outputs": [],
   "source": [
    "mypath = \"H:/3class_data/average2\"\n",
    "average_files = [f for f in listdir(mypath) if isfile(join(mypath, f))]"
   ]
  },
  {
   "cell_type": "code",
   "execution_count": 12,
   "metadata": {},
   "outputs": [
    {
     "data": {
      "text/plain": [
       "['rahul-clip118_2,2,2.wav',\n",
       " 'rahul-clip131_2,2,2.wav',\n",
       " 'rahul-clip146_2,2,2.wav',\n",
       " 'rahul-clip152_2,2,2.wav',\n",
       " 'rahul-clip163_2,2,2.wav',\n",
       " 'rahul-clip180_2,2,2.wav',\n",
       " 'rahul-clip216_2,2,2.wav',\n",
       " 'rahul-clip23_2,2,2.wav',\n",
       " 'rahul-clip274_2,2,2.wav',\n",
       " 'rahul-clip289_2,2,2.wav',\n",
       " 'rahul-clip360_2,2,2.wav',\n",
       " 'rahul-clip373_2,2,2.wav',\n",
       " 'rahul-clip386_2,2,2.wav',\n",
       " 'rahul-clip410_2,2,2.wav',\n",
       " 'rahul-clip436_2,2,2.wav',\n",
       " 'rahul-clip446_2,2,2.wav',\n",
       " 'rahul-clip450_2,2,2.wav',\n",
       " 'rahul-clip473_2,2,2.wav',\n",
       " 'rahul-clip520_2,2,2.wav',\n",
       " 'rahul-clip523_2,2,2.wav',\n",
       " 'rahul-clip525_2,2,2.wav',\n",
       " 'rahul-clip541_2,2,2.wav',\n",
       " 'rahul-clip54_2,2,2.wav',\n",
       " 'rahul-kids-clip2_2,2,2.wav',\n",
       " 'ravina-set1-clip10_2,2,2.wav',\n",
       " 'ravina-set1-clip34_2,2,2.wav',\n",
       " 'ravina-set1-clip39_2,2,2.wav',\n",
       " 'ravina-set1-clip3_2,2,2.wav',\n",
       " 'ravina-set1-clip48_2,2,2.wav',\n",
       " 'ravina-set2-clip15_2,2,2.wav',\n",
       " 'ravina-set2-clip17_2,2,2.wav',\n",
       " 'ravina-set2-clip21_2,2,2.wav',\n",
       " 'ravina-set2-clip26_2,2,2.wav',\n",
       " 'ravina-set2-clip4_2,2,2.wav',\n",
       " 'ravina-set2-clip6_2,2,2.wav',\n",
       " 'ravina-set2-clip8_2,2,2.wav',\n",
       " 'ravina-set2-clip9_2,2,2.wav',\n",
       " 'ravina-set3-clip13_2,2,2.wav',\n",
       " 'ravina-set3-clip45_2,2,2.wav',\n",
       " 'ravina-set3-clip48_2,2,2.wav',\n",
       " 'ravina-set3-clip49_2,2,2.wav',\n",
       " 'ravina-set3-clip8_2,2,2.wav',\n",
       " 'ravina-set4-clip10_2,2,2.wav',\n",
       " 'ravina-set4-clip27_2,2,2.wav',\n",
       " 'ravina-set4-clip57_2,2,2.wav',\n",
       " 'ravina-set4-clip7_2,2,2.wav',\n",
       " 'ravina-set5-clip11_2,2,2.wav',\n",
       " 'ravina-set5-clip33_2,2,2.wav',\n",
       " 'ravina-set5-clip35_2,2,2.wav',\n",
       " 'ravina-set5-clip37_2,2,2.wav',\n",
       " 'ravina-set5-clip3_2,2,2.wav',\n",
       " 'ravina-set5-clip8_2,2,2.wav',\n",
       " 'saijal-set1-clip41_2,2,2.wav',\n",
       " 'saijal-set1-clip50_2,2,2.wav',\n",
       " 'saijal-set1-clip66_2,2,2.wav',\n",
       " 'saijal-set1-clip80_2,2,2.wav',\n",
       " 'saijal-set2-clip23_2,2,2.wav',\n",
       " 'saijal-set2-clip27_2,2,2.wav',\n",
       " 'saijal-set3-clip19_2,2,2.wav',\n",
       " 'saijal-set3-clip21_2,2,2.wav',\n",
       " 'saijal-set3-clip26_2,2,2.wav',\n",
       " 'saijal-set3-clip30_2,2,2.wav',\n",
       " 'saijal-set3-clip36_2,2,2.wav',\n",
       " 'saijal-set4-clip11_2,2,2.wav',\n",
       " 'saijal-set4-clip13_2,2,2.wav',\n",
       " 'saijal-set4-clip17_2,2,2.wav',\n",
       " 'saijal-set4-clip1_2,2,2.wav',\n",
       " 'saijal-set4-clip20_2,2,2.wav',\n",
       " 'saijal-set4-clip22_2,2,2.wav',\n",
       " 'saijal-set4-clip35_2,2,2.wav',\n",
       " 'saijal-set4-clip36_2,2,2.wav',\n",
       " 'saijal-set5-clip15_2,2,2.wav',\n",
       " 'saijal-set5-clip29_2,2,2.wav',\n",
       " 'saijal-set5-clip2_2,2,2.wav',\n",
       " 'saijal-set5-clip33_2,2,2.wav',\n",
       " 'saijal-set5-clip36_2,2,2.wav',\n",
       " 'saijal-set5-clip9_2,2,2.wav',\n",
       " 'saijal-set6-clip10_2,2,2.wav',\n",
       " 'saijal-set6-clip11_2,2,2.wav',\n",
       " 'saijal-set6-clip13_2,2,2.wav',\n",
       " 'saijal-set6-clip14_2,2,2.wav',\n",
       " 'saijal-set6-clip16_2,2,2.wav',\n",
       " 'saijal-set6-clip7_2,2,2.wav']"
      ]
     },
     "execution_count": 12,
     "metadata": {},
     "output_type": "execute_result"
    }
   ],
   "source": [
    "average_files"
   ]
  },
  {
   "cell_type": "code",
   "execution_count": null,
   "metadata": {},
   "outputs": [],
   "source": []
  }
 ],
 "metadata": {
  "kernelspec": {
   "display_name": "Python 3",
   "language": "python",
   "name": "python3"
  },
  "language_info": {
   "codemirror_mode": {
    "name": "ipython",
    "version": 3
   },
   "file_extension": ".py",
   "mimetype": "text/x-python",
   "name": "python",
   "nbconvert_exporter": "python",
   "pygments_lexer": "ipython3",
   "version": "3.6.5"
  }
 },
 "nbformat": 4,
 "nbformat_minor": 2
}
